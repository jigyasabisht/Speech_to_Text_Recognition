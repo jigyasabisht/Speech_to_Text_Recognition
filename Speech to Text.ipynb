{
 "cells": [
  {
   "cell_type": "code",
   "execution_count": 1,
   "metadata": {},
   "outputs": [],
   "source": [
    "import speech_recognition as sr"
   ]
  },
  {
   "cell_type": "code",
   "execution_count": 2,
   "metadata": {},
   "outputs": [],
   "source": [
    "r = sr.Recognizer()"
   ]
  },
  {
   "cell_type": "code",
   "execution_count": 3,
   "metadata": {},
   "outputs": [
    {
     "name": "stdout",
     "output_type": "stream",
     "text": [
      "SAY SOMETHING\n",
      "TIME OVER, THANKS\n",
      "Converting audio transcripts into text ...\n",
      "I am good\n"
     ]
    }
   ],
   "source": [
    "# Default Language: English\n",
    "# Whatever one will speak will be converted to text in English\n",
    "with sr.Microphone() as source:\n",
    "    print(\"SAY SOMETHING\")\n",
    "    audio_text = r.listen(source)\n",
    "    print(\"TIME OVER, THANKS\")\n",
    "    \n",
    "    try:\n",
    "        text = r.recognize_google(audio_text)\n",
    "        print('Converting audio transcripts into text ...')\n",
    "        print(text)\n",
    "    except:\n",
    "         print('Sorry.. run again...')"
   ]
  },
  {
   "cell_type": "code",
   "execution_count": 4,
   "metadata": {},
   "outputs": [
    {
     "name": "stdout",
     "output_type": "stream",
     "text": [
      "SAY SOMETHING\n",
      "TIME OVER, THANKS\n",
      "Converting audio transcripts into text ...\n",
      "मैं जा रही हूं\n"
     ]
    }
   ],
   "source": [
    "# Speech to Text in HINDI\n",
    "with sr.Microphone() as source:\n",
    "    print(\"SAY SOMETHING\")\n",
    "    audio_text = r.listen(source)\n",
    "    print(\"TIME OVER, THANKS\")\n",
    "    \n",
    "    try:\n",
    "        text = r.recognize_google(audio_text, language = \"hi-IN\")\n",
    "        print('Converting audio transcripts into text ...')\n",
    "        print(text)\n",
    "    except:\n",
    "         print('Sorry.. run again...')"
   ]
  },
  {
   "cell_type": "code",
   "execution_count": 5,
   "metadata": {},
   "outputs": [
    {
     "name": "stdout",
     "output_type": "stream",
     "text": [
      "SAY SOMETHING\n",
      "TIME OVER, THANKS\n",
      "Converting audio transcripts into text ...\n",
      "Bonjour je suis fou\n"
     ]
    }
   ],
   "source": [
    "# Speech to Text in FRENCH\n",
    "with sr.Microphone() as source:\n",
    "    print(\"SAY SOMETHING\")\n",
    "    audio_text = r.listen(source)\n",
    "    print(\"TIME OVER, THANKS\")\n",
    "    \n",
    "    try:\n",
    "        text = r.recognize_google(audio_text, language = \"fr-FR\")\n",
    "        print('Converting audio transcripts into text ...')\n",
    "        print(text)\n",
    "    except:\n",
    "         print('Sorry.. run again...')"
   ]
  },
  {
   "cell_type": "code",
   "execution_count": null,
   "metadata": {},
   "outputs": [],
   "source": []
  }
 ],
 "metadata": {
  "kernelspec": {
   "display_name": "Python 3",
   "language": "python",
   "name": "python3"
  },
  "language_info": {
   "codemirror_mode": {
    "name": "ipython",
    "version": 3
   },
   "file_extension": ".py",
   "mimetype": "text/x-python",
   "name": "python",
   "nbconvert_exporter": "python",
   "pygments_lexer": "ipython3",
   "version": "3.8.3"
  }
 },
 "nbformat": 4,
 "nbformat_minor": 4
}
